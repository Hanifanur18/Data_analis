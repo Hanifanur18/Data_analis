{
  "nbformat": 4,
  "nbformat_minor": 0,
  "metadata": {
    "colab": {
      "provenance": [],
      "include_colab_link": true
    },
    "kernelspec": {
      "name": "python3",
      "display_name": "Python 3"
    },
    "language_info": {
      "name": "python"
    }
  },
  "cells": [
    {
      "cell_type": "markdown",
      "metadata": {
        "id": "view-in-github",
        "colab_type": "text"
      },
      "source": [
        "<a href=\"https://colab.research.google.com/github/Hanifanur18/Data_analis/blob/main/Data_analytics_Lesson2.ipynb\" target=\"_parent\"><img src=\"https://colab.research.google.com/assets/colab-badge.svg\" alt=\"Open In Colab\"/></a>"
      ]
    },
    {
      "cell_type": "code",
      "source": [
        "import pandas as pd"
      ],
      "metadata": {
        "id": "iwf_WvvsZzJ_"
      },
      "execution_count": 2,
      "outputs": []
    },
    {
      "cell_type": "code",
      "execution_count": 5,
      "metadata": {
        "id": "igFOrwyWOu7a"
      },
      "outputs": [],
      "source": [
        "file_url = 'https://raw.githubusercontent.com/Hanifanur18/Data_analis/main/GoogleApps.csv'\n",
        "df = pd.read_csv(file_url)"
      ]
    },
    {
      "cell_type": "code",
      "source": [
        "print(df.info())"
      ],
      "metadata": {
        "colab": {
          "base_uri": "https://localhost:8080/"
        },
        "id": "AoP7yuaHZ51S",
        "outputId": "75596fcf-2f5e-4367-8a7d-c97eb5f6dff0"
      },
      "execution_count": 6,
      "outputs": [
        {
          "output_type": "stream",
          "name": "stdout",
          "text": [
            "<class 'pandas.core.frame.DataFrame'>\n",
            "RangeIndex: 7352 entries, 0 to 7351\n",
            "Data columns (total 12 columns):\n",
            " #   Column          Non-Null Count  Dtype  \n",
            "---  ------          --------------  -----  \n",
            " 0   App             7352 non-null   object \n",
            " 1   Category        7352 non-null   object \n",
            " 2   Rating          7352 non-null   float64\n",
            " 3   Reviews         7352 non-null   int64  \n",
            " 4   Size            7352 non-null   float64\n",
            " 5   Installs        7352 non-null   float64\n",
            " 6   Type            7352 non-null   object \n",
            " 7   Price           7352 non-null   float64\n",
            " 8   Content Rating  7352 non-null   object \n",
            " 9   Last Updated    7352 non-null   object \n",
            " 10  Current Ver     7352 non-null   object \n",
            " 11  Android Ver     7352 non-null   object \n",
            "dtypes: float64(4), int64(1), object(7)\n",
            "memory usage: 689.4+ KB\n",
            "None\n"
          ]
        }
      ]
    },
    {
      "cell_type": "code",
      "source": [
        "a = df['Category'].value_counts()\n",
        "print(a['BUSINESS'])"
      ],
      "metadata": {
        "id": "9ZWCPuFUwuna",
        "outputId": "433d8e01-8203-41d6-ae67-1ffa82cecc5f",
        "colab": {
          "base_uri": "https://localhost:8080/"
        }
      },
      "execution_count": 8,
      "outputs": [
        {
          "output_type": "stream",
          "name": "stdout",
          "text": [
            "246\n"
          ]
        }
      ]
    },
    {
      "cell_type": "code",
      "source": [
        "b = df['Content Rating'].value_counts()\n",
        "print(round(b.loc['Teen']/b.loc['Everyone 10+'],2))"
      ],
      "metadata": {
        "id": "UANDoucgEvfP",
        "outputId": "ac9afe8b-33e8-4527-8d01-5227c8f2bafe",
        "colab": {
          "base_uri": "https://localhost:8080/"
        }
      },
      "execution_count": 10,
      "outputs": [
        {
          "output_type": "stream",
          "name": "stdout",
          "text": [
            "2.73\n"
          ]
        }
      ]
    },
    {
      "cell_type": "code",
      "source": [
        "c = df.groupby(by = 'Type')['Rating'].mean()\n",
        "print(round(c['Paid'],2))\n",
        "print(round(c['Paid']-c['Free'],2))"
      ],
      "metadata": {
        "id": "8gKioH9lMPQs",
        "colab": {
          "base_uri": "https://localhost:8080/"
        },
        "outputId": "65b2284c-b898-473c-f1f9-4135bd5d1087"
      },
      "execution_count": 12,
      "outputs": [
        {
          "output_type": "stream",
          "name": "stdout",
          "text": [
            "4.25\n",
            "0.08\n"
          ]
        }
      ]
    },
    {
      "cell_type": "code",
      "source": [
        "d = df.groupby(by = 'Category')['Size'].agg(['max', 'min'])\n",
        "print(d)\n"
      ],
      "metadata": {
        "id": "vwoYFM7fMSI8",
        "colab": {
          "base_uri": "https://localhost:8080/"
        },
        "outputId": "dc36bf1d-b55a-4126-fc77-4194bc626067"
      },
      "execution_count": 16,
      "outputs": [
        {
          "output_type": "stream",
          "name": "stdout",
          "text": [
            "                       max       min\n",
            "Category                            \n",
            "ART_AND_DESIGN        39.0  1.200000\n",
            "AUTO_AND_VEHICLES     97.0  0.196289\n",
            "BEAUTY                57.0  2.200000\n",
            "BOOKS_AND_REFERENCE   87.0  0.090820\n",
            "BUSINESS              92.0  0.022461\n",
            "COMICS                40.0  0.433594\n",
            "COMMUNICATION         66.0  0.016602\n",
            "DATING                38.0  3.400000\n",
            "EDUCATION             97.0  0.513672\n",
            "ENTERTAINMENT         78.0  3.300000\n",
            "EVENTS                61.0  0.326172\n",
            "FAMILY               100.0  0.013672\n",
            "FINANCE              100.0  0.068359\n",
            "FOOD_AND_DRINK        76.0  1.700000\n",
            "GAME                 100.0  0.113281\n",
            "HEALTH_AND_FITNESS   100.0  0.220703\n",
            "HOUSE_AND_HOME        77.0  1.900000\n",
            "LIBRARIES_AND_DEMO    99.0  0.008301\n",
            "LIFESTYLE            100.0  0.072266\n",
            "MAPS_AND_NAVIGATION   78.0  0.160156\n",
            "MEDICAL              100.0  0.259766\n",
            "NEWS_AND_MAGAZINES    56.0  0.027344\n",
            "PARENTING             98.0  1.500000\n",
            "PERSONALIZATION       91.0  0.023438\n",
            "PHOTOGRAPHY           96.0  0.056641\n",
            "PRODUCTIVITY          76.0  0.016602\n",
            "SHOPPING              98.0  0.043945\n",
            "SOCIAL                96.0  0.443359\n",
            "SPORTS               100.0  0.881836\n",
            "TOOLS                 99.0  0.024414\n",
            "TRAVEL_AND_LOCAL      86.0  0.017578\n",
            "VIDEO_PLAYERS         91.0  0.032227\n",
            "WEATHER               54.0  0.568359\n"
          ]
        }
      ]
    }
  ]
}