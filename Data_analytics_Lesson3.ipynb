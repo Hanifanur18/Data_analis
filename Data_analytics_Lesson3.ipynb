{
  "nbformat": 4,
  "nbformat_minor": 0,
  "metadata": {
    "colab": {
      "provenance": [],
      "authorship_tag": "ABX9TyNwcGtH8DhYgf5k4nNGBJXo",
      "include_colab_link": true
    },
    "kernelspec": {
      "name": "python3",
      "display_name": "Python 3"
    },
    "language_info": {
      "name": "python"
    }
  },
  "cells": [
    {
      "cell_type": "markdown",
      "metadata": {
        "id": "view-in-github",
        "colab_type": "text"
      },
      "source": [
        "<a href=\"https://colab.research.google.com/github/Hanifanur18/Data_analis/blob/main/Data_analytics_Lesson3.ipynb\" target=\"_parent\"><img src=\"https://colab.research.google.com/assets/colab-badge.svg\" alt=\"Open In Colab\"/></a>"
      ]
    },
    {
      "cell_type": "code",
      "source": [
        "import pandas as pd"
      ],
      "metadata": {
        "id": "z6BWr4jpar2Z"
      },
      "execution_count": 1,
      "outputs": []
    },
    {
      "cell_type": "code",
      "execution_count": 2,
      "metadata": {
        "id": "9olQ_YTfaebJ"
      },
      "outputs": [],
      "source": [
        "file_url = 'https://raw.githubusercontent.com/Hanifanur18/Data_analis/main/GooglePlayStore_wild.csv'\n",
        "df = pd.read_csv(file_url)"
      ]
    },
    {
      "cell_type": "code",
      "source": [
        "print(df.info())"
      ],
      "metadata": {
        "colab": {
          "base_uri": "https://localhost:8080/"
        },
        "id": "s7GR0qcmazUW",
        "outputId": "d39b6a17-076f-4583-dff2-6af1ea900fc3"
      },
      "execution_count": 4,
      "outputs": [
        {
          "output_type": "stream",
          "name": "stdout",
          "text": [
            "<class 'pandas.core.frame.DataFrame'>\n",
            "RangeIndex: 10840 entries, 0 to 10839\n",
            "Data columns (total 14 columns):\n",
            " #   Column          Non-Null Count  Dtype  \n",
            "---  ------          --------------  -----  \n",
            " 0   Unnamed: 0      10840 non-null  int64  \n",
            " 1   App             10840 non-null  object \n",
            " 2   Category        10840 non-null  object \n",
            " 3   Rating          9366 non-null   float64\n",
            " 4   Reviews         10840 non-null  int64  \n",
            " 5   Size            10840 non-null  object \n",
            " 6   Installs        10840 non-null  object \n",
            " 7   Type            10839 non-null  object \n",
            " 8   Price           10840 non-null  object \n",
            " 9   Content Rating  10840 non-null  object \n",
            " 10  Genres          10840 non-null  object \n",
            " 11  Last Updated    10840 non-null  object \n",
            " 12  Current Ver     10832 non-null  object \n",
            " 13  Android Ver     10838 non-null  object \n",
            "dtypes: float64(1), int64(2), object(11)\n",
            "memory usage: 1.2+ MB\n",
            "None\n"
          ]
        }
      ]
    }
  ]
}