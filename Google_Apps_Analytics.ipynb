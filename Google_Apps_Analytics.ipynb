{
  "nbformat": 4,
  "nbformat_minor": 0,
  "metadata": {
    "colab": {
      "provenance": [],
      "include_colab_link": true
    },
    "kernelspec": {
      "name": "python3",
      "display_name": "Python 3"
    },
    "language_info": {
      "name": "python"
    }
  },
  "cells": [
    {
      "cell_type": "markdown",
      "metadata": {
        "id": "view-in-github",
        "colab_type": "text"
      },
      "source": [
        "<a href=\"https://colab.research.google.com/github/Hanifanur18/Data_analis/blob/main/Google_Apps_Analytics.ipynb\" target=\"_parent\"><img src=\"https://colab.research.google.com/assets/colab-badge.svg\" alt=\"Open In Colab\"/></a>"
      ]
    },
    {
      "cell_type": "markdown",
      "source": [
        "## **Data Preparation**"
      ],
      "metadata": {
        "id": "SIYO2NUKTaeY"
      }
    },
    {
      "cell_type": "code",
      "source": [
        "import pandas as pd"
      ],
      "metadata": {
        "id": "iwf_WvvsZzJ_"
      },
      "execution_count": 1,
      "outputs": []
    },
    {
      "cell_type": "code",
      "execution_count": 2,
      "metadata": {
        "id": "igFOrwyWOu7a"
      },
      "outputs": [],
      "source": [
        "file_url = 'https://raw.githubusercontent.com/Hanifanur18/Data_analis/main/GoogleApps.csv'\n",
        "df = pd.read_csv(file_url)"
      ]
    },
    {
      "cell_type": "code",
      "source": [
        "print(df.info())"
      ],
      "metadata": {
        "colab": {
          "base_uri": "https://localhost:8080/"
        },
        "id": "AoP7yuaHZ51S",
        "outputId": "39d6fb46-15a0-4471-b244-01f9e8d41b5d"
      },
      "execution_count": 3,
      "outputs": [
        {
          "output_type": "stream",
          "name": "stdout",
          "text": [
            "<class 'pandas.core.frame.DataFrame'>\n",
            "RangeIndex: 7352 entries, 0 to 7351\n",
            "Data columns (total 12 columns):\n",
            " #   Column          Non-Null Count  Dtype  \n",
            "---  ------          --------------  -----  \n",
            " 0   App             7352 non-null   object \n",
            " 1   Category        7352 non-null   object \n",
            " 2   Rating          7352 non-null   float64\n",
            " 3   Reviews         7352 non-null   int64  \n",
            " 4   Size            7352 non-null   float64\n",
            " 5   Installs        7352 non-null   float64\n",
            " 6   Type            7352 non-null   object \n",
            " 7   Price           7352 non-null   float64\n",
            " 8   Content Rating  7352 non-null   object \n",
            " 9   Last Updated    7352 non-null   object \n",
            " 10  Current Ver     7352 non-null   object \n",
            " 11  Android Ver     7352 non-null   object \n",
            "dtypes: float64(4), int64(1), object(7)\n",
            "memory usage: 689.4+ KB\n",
            "None\n"
          ]
        }
      ]
    },
    {
      "cell_type": "markdown",
      "source": [
        "# **Data Exploration**"
      ],
      "metadata": {
        "id": "wyJftOuxiD8a"
      }
    },
    {
      "cell_type": "code",
      "source": [
        "# How many app in business category ?\n",
        "a = df['Category'].value_counts()\n",
        "print(a['BUSINESS'])"
      ],
      "metadata": {
        "id": "9ZWCPuFUwuna",
        "outputId": "59585f1e-00d1-4f71-fa20-8a9102c3b8fa",
        "colab": {
          "base_uri": "https://localhost:8080/"
        }
      },
      "execution_count": 4,
      "outputs": [
        {
          "output_type": "stream",
          "name": "stdout",
          "text": [
            "246\n"
          ]
        }
      ]
    },
    {
      "cell_type": "code",
      "source": [
        "# What is the rasio between App for teen and App for everyone 10+, round to the nearest tenth\n",
        "b = df['Content Rating'].value_counts()\n",
        "print(round(b.loc['Teen']/b.loc['Everyone 10+'],2))"
      ],
      "metadata": {
        "id": "UANDoucgEvfP",
        "outputId": "c4690ec8-4e81-4279-cfb3-658356a950d6",
        "colab": {
          "base_uri": "https://localhost:8080/"
        }
      },
      "execution_count": 5,
      "outputs": [
        {
          "output_type": "stream",
          "name": "stdout",
          "text": [
            "2.73\n"
          ]
        }
      ]
    },
    {
      "cell_type": "code",
      "source": [
        "# What is the average rating of paid apps and the difference between rating for paid and free apps\n",
        "c = df.groupby(by = 'Type')['Rating'].mean()\n",
        "print(round(c['Paid'],2))\n",
        "print(round(c['Paid']-c['Free'],2))"
      ],
      "metadata": {
        "id": "8gKioH9lMPQs",
        "colab": {
          "base_uri": "https://localhost:8080/"
        },
        "outputId": "bfc1cb08-aceb-492a-d4b7-43703bc30850"
      },
      "execution_count": 6,
      "outputs": [
        {
          "output_type": "stream",
          "name": "stdout",
          "text": [
            "4.25\n",
            "0.08\n"
          ]
        }
      ]
    },
    {
      "cell_type": "code",
      "source": [
        "# What is maximum and minimum size of comics category\n",
        "d = df.groupby(by = 'Category')['Size'].agg(['max', 'min'])\n",
        "print(d.loc['COMICS'])"
      ],
      "metadata": {
        "id": "vwoYFM7fMSI8",
        "colab": {
          "base_uri": "https://localhost:8080/"
        },
        "outputId": "ec9599f3-9a41-4107-ab7a-dfd2c1514fbf"
      },
      "execution_count": 7,
      "outputs": [
        {
          "output_type": "stream",
          "name": "stdout",
          "text": [
            "max    40.000000\n",
            "min     0.433594\n",
            "Name: COMICS, dtype: float64\n"
          ]
        }
      ]
    },
    {
      "cell_type": "code",
      "source": [
        "# What is the min, median, and max price of paid apps for different target audience\n",
        "e = df[df['Type']== 'Paid'].groupby(by = 'Content Rating')['Price'].agg(['min', 'median', 'max'])\n",
        "print(e)"
      ],
      "metadata": {
        "id": "ihGFNM4MUbKA",
        "colab": {
          "base_uri": "https://localhost:8080/"
        },
        "outputId": "907b70e0-3567-4d0c-94bf-72022bf678e8"
      },
      "execution_count": 8,
      "outputs": [
        {
          "output_type": "stream",
          "name": "stdout",
          "text": [
            "                 min  median     max\n",
            "Content Rating                      \n",
            "Everyone        0.99    2.99  400.00\n",
            "Everyone 10+    0.99    2.99   19.99\n",
            "Teen            0.99    4.38  399.99\n"
          ]
        }
      ]
    },
    {
      "cell_type": "code",
      "source": [
        "f = df[df['Type'] == 'Paid'].pivot_table(columns = 'Content Rating', index = 'Category', values = 'Reviews', aggfunc = 'mean')\n",
        "print(f)"
      ],
      "metadata": {
        "colab": {
          "base_uri": "https://localhost:8080/"
        },
        "id": "ZeC41_hoSLuW",
        "outputId": "022f0330-f9f5-4853-b629-1be0671dba0b"
      },
      "execution_count": 9,
      "outputs": [
        {
          "output_type": "stream",
          "name": "stdout",
          "text": [
            "Content Rating           Everyone  Everyone 10+          Teen\n",
            "Category                                                     \n",
            "ART_AND_DESIGN         722.000000           NaN           NaN\n",
            "BOOKS_AND_REFERENCE    234.285714           NaN           NaN\n",
            "BUSINESS              4683.900000           NaN           NaN\n",
            "COMMUNICATION          724.833333           NaN           NaN\n",
            "DATING                  57.000000           NaN           NaN\n",
            "EDUCATION             8661.250000           NaN           NaN\n",
            "FAMILY                6827.072727  16016.210526  10902.722222\n",
            "FINANCE               1922.416667           NaN    129.000000\n",
            "FOOD_AND_DRINK        1268.000000           NaN           NaN\n",
            "GAME                  9394.275000  10428.000000  15520.782609\n",
            "HEALTH_AND_FITNESS    2653.125000           NaN           NaN\n",
            "LIFESTYLE             2609.428571           NaN     12.000000\n",
            "MAPS_AND_NAVIGATION    239.500000           NaN           NaN\n",
            "MEDICAL                303.347222    119.666667    104.000000\n",
            "NEWS_AND_MAGAZINES      58.000000           NaN           NaN\n",
            "PARENTING             8343.000000           NaN           NaN\n",
            "PERSONALIZATION       6367.539683           NaN           NaN\n",
            "PHOTOGRAPHY          12885.733333           NaN           NaN\n",
            "PRODUCTIVITY          9000.384615           NaN           NaN\n",
            "SHOPPING               242.000000           NaN           NaN\n",
            "SOCIAL                 121.000000           NaN           NaN\n",
            "SPORTS                6833.300000           NaN           NaN\n",
            "TOOLS                 1651.890909           NaN           NaN\n",
            "TRAVEL_AND_LOCAL       293.500000           NaN           NaN\n",
            "VIDEO_PLAYERS          167.000000           NaN           NaN\n",
            "WEATHER               9972.166667           NaN           NaN\n"
          ]
        }
      ]
    }
  ]
}